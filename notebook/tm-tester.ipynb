{
 "cells": [
  {
   "cell_type": "code",
   "execution_count": 90,
   "id": "69c744dd-295c-45e5-a267-211fa8d0903e",
   "metadata": {},
   "outputs": [],
   "source": [
    "import locale\n",
    "import numpy as npa\n",
    "import pandas as pd\n",
    "\n",
    "import pytz\n",
    "from datetime import datetime"
   ]
  },
  {
   "cell_type": "code",
   "execution_count": 91,
   "id": "2f42861a-929c-41c6-800e-941b08431dec",
   "metadata": {},
   "outputs": [],
   "source": [
    "from pyspark.sql import SparkSession\n",
    "from pyspark.sql.types import *\n",
    "from pyspark.sql.functions import *\n",
    "\n",
    "spark = SparkSession.builder.appName('ThExam').getOrCreate()"
   ]
  },
  {
   "cell_type": "code",
   "execution_count": 92,
   "id": "224a360e-63f8-4af6-9bd3-0543ee9a8f14",
   "metadata": {},
   "outputs": [],
   "source": [
    "local_timezone = pytz.timezone('Asia/Bangkok')"
   ]
  },
  {
   "cell_type": "code",
   "execution_count": 93,
   "id": "462801d2-bbf2-487a-a46f-354173ab8507",
   "metadata": {},
   "outputs": [
    {
     "name": "stdout",
     "output_type": "stream",
     "text": [
      "2024-03-02 20:57:12.291099+07:00\n",
      "year:2024 | month=3 | day=2\n"
     ]
    }
   ],
   "source": [
    "execute_time = datetime.now(local_timezone)\n",
    "year = execute_time.year\n",
    "month = execute_time.month\n",
    "day = execute_time.day\n",
    "\n",
    "print(execute_time)\n",
    "print(\"year:{} | month={} | day={}\".format(year,month,day))"
   ]
  },
  {
   "cell_type": "code",
   "execution_count": 94,
   "id": "79f9c5fa-1d0f-4244-9f94-5dbaed9608cc",
   "metadata": {},
   "outputs": [],
   "source": [
    "TABLE = 'dailycheckins'"
   ]
  },
  {
   "cell_type": "code",
   "execution_count": 95,
   "id": "0592ab5f-fcef-478d-bcd0-f24c420b9b75",
   "metadata": {},
   "outputs": [],
   "source": [
    "schema = StructType([\n",
    "    StructField(\"user\",StringType(),True),\n",
    "    StructField(\"timestamp\",TimestampType(),True),\n",
    "    StructField(\"hours\",FloatType(),True),\n",
    "    StructField(\"project\",StringType(),True),\n",
    "  ])"
   ]
  },
  {
   "cell_type": "code",
   "execution_count": 96,
   "id": "52e382fc-6bb4-490b-80f6-f15b7e97bdb8",
   "metadata": {},
   "outputs": [],
   "source": [
    "path = \"../data/clean_dailycheckins/\"\n",
    "df = spark.read.schema(schema).csv(path, header=True)"
   ]
  },
  {
   "cell_type": "code",
   "execution_count": 97,
   "id": "6e1cfa2a-4bf0-4515-9f5c-f9eee9efe072",
   "metadata": {},
   "outputs": [
    {
     "name": "stdout",
     "output_type": "stream",
     "text": [
      "root\n",
      " |-- user: string (nullable = true)\n",
      " |-- timestamp: timestamp (nullable = true)\n",
      " |-- hours: float (nullable = true)\n",
      " |-- project: string (nullable = true)\n",
      "\n"
     ]
    }
   ],
   "source": [
    "df.printSchema()"
   ]
  },
  {
   "cell_type": "code",
   "execution_count": 98,
   "id": "feab017e-73e9-4862-a598-e371b84a2ddd",
   "metadata": {},
   "outputs": [
    {
     "name": "stdout",
     "output_type": "stream",
     "text": [
      "+--------+-------------------+-----+-----------+\n",
      "|user    |timestamp          |hours|project    |\n",
      "+--------+-------------------+-----+-----------+\n",
      "|ned     |2019-09-26 00:00:00|4.0  |bizdev     |\n",
      "|jaime   |2018-12-20 07:00:00|1.5  |project-00 |\n",
      "|catelyn |2018-11-26 21:47:36|0.08 |security   |\n",
      "|daenerys|2018-11-26 19:55:30|8.0  |blogideas  |\n",
      "|jaime   |2018-11-26 19:11:58|0.5  |opsandadmin|\n",
      "|ned     |2018-11-26 19:08:09|1.5  |transit    |\n",
      "|jon     |2018-11-26 18:49:04|2.5  |project-25 |\n",
      "|sansa   |2018-11-26 18:48:33|2.5  |project-51 |\n",
      "|bran    |2018-11-26 07:00:00|4.37 |project-31 |\n",
      "|catelyn |2018-11-23 20:12:16|1.1  |engineering|\n",
      "+--------+-------------------+-----+-----------+\n",
      "only showing top 10 rows\n",
      "\n"
     ]
    }
   ],
   "source": [
    "df.sample(False, 0.1, seed=0).show(10, truncate=False)"
   ]
  },
  {
   "cell_type": "code",
   "execution_count": 99,
   "id": "2d357081-635c-42a5-8a7c-60e1dd23385e",
   "metadata": {},
   "outputs": [
    {
     "data": {
      "text/html": [
       "<div>\n",
       "<style scoped>\n",
       "    .dataframe tbody tr th:only-of-type {\n",
       "        vertical-align: middle;\n",
       "    }\n",
       "\n",
       "    .dataframe tbody tr th {\n",
       "        vertical-align: top;\n",
       "    }\n",
       "\n",
       "    .dataframe thead th {\n",
       "        text-align: right;\n",
       "    }\n",
       "</style>\n",
       "<table border=\"1\" class=\"dataframe\">\n",
       "  <thead>\n",
       "    <tr style=\"text-align: right;\">\n",
       "      <th></th>\n",
       "      <th>summary</th>\n",
       "      <th>user</th>\n",
       "      <th>hours</th>\n",
       "      <th>project</th>\n",
       "    </tr>\n",
       "  </thead>\n",
       "  <tbody>\n",
       "    <tr>\n",
       "      <th>0</th>\n",
       "      <td>count</td>\n",
       "      <td>20495</td>\n",
       "      <td>20500</td>\n",
       "      <td>20500</td>\n",
       "    </tr>\n",
       "    <tr>\n",
       "      <th>1</th>\n",
       "      <td>mean</td>\n",
       "      <td>None</td>\n",
       "      <td>2.071274634053794</td>\n",
       "      <td>None</td>\n",
       "    </tr>\n",
       "    <tr>\n",
       "      <th>2</th>\n",
       "      <td>stddev</td>\n",
       "      <td>None</td>\n",
       "      <td>2.004774748229288</td>\n",
       "      <td>None</td>\n",
       "    </tr>\n",
       "    <tr>\n",
       "      <th>3</th>\n",
       "      <td>min</td>\n",
       "      <td>arya</td>\n",
       "      <td>0.0</td>\n",
       "      <td>airflow</td>\n",
       "    </tr>\n",
       "    <tr>\n",
       "      <th>4</th>\n",
       "      <td>max</td>\n",
       "      <td>ygritte</td>\n",
       "      <td>30.0</td>\n",
       "      <td>workshops</td>\n",
       "    </tr>\n",
       "  </tbody>\n",
       "</table>\n",
       "</div>"
      ],
      "text/plain": [
       "  summary     user              hours    project\n",
       "0   count    20495              20500      20500\n",
       "1    mean     None  2.071274634053794       None\n",
       "2  stddev     None  2.004774748229288       None\n",
       "3     min     arya                0.0    airflow\n",
       "4     max  ygritte               30.0  workshops"
      ]
     },
     "execution_count": 99,
     "metadata": {},
     "output_type": "execute_result"
    }
   ],
   "source": [
    "df.describe().toPandas()"
   ]
  },
  {
   "cell_type": "code",
   "execution_count": 100,
   "id": "d3409dc3-f33b-4c2e-8020-f2fa2ba82a09",
   "metadata": {},
   "outputs": [],
   "source": [
    "def find_missing(df):\n",
    "    string_columns = ['user', 'project', 'timestamp']\n",
    "    numeric_columns = ['hours']\n",
    "    missing_values = {}\n",
    "    for index, column in enumerate(df.columns):\n",
    "        missing_count = df.filter(col(column).eqNullSafe(None) | col(column).isNull() | col(column).isin([None])).count()\n",
    "        missing_values.update({column:missing_count})\n",
    "    return missing_values"
   ]
  },
  {
   "cell_type": "code",
   "execution_count": 101,
   "id": "e65804c6-c4e0-4865-a04f-f52e5a1a6228",
   "metadata": {},
   "outputs": [],
   "source": [
    "missing_dict = find_missing(df)"
   ]
  },
  {
   "cell_type": "code",
   "execution_count": 113,
   "id": "4350a631-4f43-4d56-bb21-cce1d484b712",
   "metadata": {},
   "outputs": [],
   "source": [
    "has_failed_test = False\n",
    "missing_data = {}"
   ]
  },
  {
   "cell_type": "code",
   "execution_count": 115,
   "id": "2c1fdb3e-f7f1-40a0-bb21-8178eae60407",
   "metadata": {},
   "outputs": [],
   "source": [
    "for key, value in missing_dict.items():\n",
    "    if value != 0:\n",
    "        has_failed_test = True\n",
    "        values = df.filter(col(str(key)).eqNullSafe(None) | col(str(key)).isNull() | col(str(key)).isin([None]))\n",
    "        missing_data[key] = values"
   ]
  },
  {
   "cell_type": "code",
   "execution_count": 116,
   "id": "fa2b4e7a-eb6c-4d49-a755-7d1c0e251a34",
   "metadata": {},
   "outputs": [
    {
     "data": {
      "text/plain": [
       "{'user': DataFrame[user: string, timestamp: timestamp, hours: float, project: string]}"
      ]
     },
     "execution_count": 116,
     "metadata": {},
     "output_type": "execute_result"
    }
   ],
   "source": [
    "missing_data"
   ]
  },
  {
   "cell_type": "code",
   "execution_count": 117,
   "id": "4e9b4580-3d60-4528-9447-9287b450eada",
   "metadata": {},
   "outputs": [],
   "source": [
    "# update status, data and log of error file to Dynamo \n",
    "# update noti by SNS or API to somewhere \n",
    "\n",
    "for key in missing_data:\n",
    "    missing_data[key].write\\\n",
    "    .option(\"header\",\"true\")\\\n",
    "    .mode('overwrite').csv(\"../state=test/table={}/year={}/month={}/day={}/\".format(TABLE, year, month, day))"
   ]
  },
  {
   "cell_type": "code",
   "execution_count": 118,
   "id": "8fd36653-f33b-46f9-ab3d-a62b52ae38b6",
   "metadata": {},
   "outputs": [
    {
     "data": {
      "text/plain": [
       "True"
      ]
     },
     "execution_count": 118,
     "metadata": {},
     "output_type": "execute_result"
    }
   ],
   "source": [
    "has_failed_test"
   ]
  },
  {
   "cell_type": "code",
   "execution_count": 123,
   "id": "9be2bbe8-dac5-4f36-9b46-e6042134ff9f",
   "metadata": {},
   "outputs": [
    {
     "name": "stdout",
     "output_type": "stream",
     "text": [
      "+----+-------------------+-----+----------+\n",
      "|user|timestamp          |hours|project   |\n",
      "+----+-------------------+-----+----------+\n",
      "|null|2017-10-12 17:31:44|2.75 |project-47|\n",
      "|null|2017-10-12 17:31:44|4.0  |bizdev    |\n",
      "+----+-------------------+-----+----------+\n",
      "\n"
     ]
    }
   ],
   "source": [
    "missing_data['user'].sample(False, 0.5, seed=0).show(10, truncate=False)"
   ]
  },
  {
   "cell_type": "code",
   "execution_count": 75,
   "id": "a9433c16-f34f-484a-9b23-901384c6754a",
   "metadata": {},
   "outputs": [
    {
     "name": "stdout",
     "output_type": "stream",
     "text": [
      "+-------------+\n",
      "|message      |\n",
      "+-------------+\n",
      "|Hello, World!|\n",
      "+-------------+\n",
      "\n"
     ]
    }
   ],
   "source": [
    "data = [(\"Hello, World!\",)]\n",
    "df = spark.createDataFrame(data, [\"message\"])\n",
    "\n",
    "# Show the DataFrame\n",
    "df.show(truncate=False)"
   ]
  },
  {
   "cell_type": "code",
   "execution_count": null,
   "id": "9ba150a4-fead-4f78-97b4-e2b80eac3d70",
   "metadata": {},
   "outputs": [],
   "source": []
  }
 ],
 "metadata": {
  "kernelspec": {
   "display_name": "pyspark",
   "language": "python",
   "name": "pyspark"
  },
  "language_info": {
   "codemirror_mode": {
    "name": "ipython",
    "version": 3
   },
   "file_extension": ".py",
   "mimetype": "text/x-python",
   "name": "python",
   "nbconvert_exporter": "python",
   "pygments_lexer": "ipython3",
   "version": "3.10.13"
  }
 },
 "nbformat": 4,
 "nbformat_minor": 5
}
