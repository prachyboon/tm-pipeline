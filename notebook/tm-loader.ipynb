{
 "cells": [
  {
   "cell_type": "code",
   "execution_count": 1,
   "id": "9ebc6712-6e54-4027-981d-bef55ed2181a",
   "metadata": {},
   "outputs": [],
   "source": [
    "import numpy as npa\n",
    "import pandas as pd\n",
    "\n",
    "import pytz\n",
    "import locale\n",
    "from datetime import datetime"
   ]
  },
  {
   "cell_type": "code",
   "execution_count": 2,
   "id": "0af5207d-f7e3-4a9c-a4c2-5c865624aa4a",
   "metadata": {},
   "outputs": [
    {
     "name": "stderr",
     "output_type": "stream",
     "text": [
      "Setting default log level to \"WARN\".\n",
      "To adjust logging level use sc.setLogLevel(newLevel). For SparkR, use setLogLevel(newLevel).\n",
      "24/03/03 11:54:07 WARN NativeCodeLoader: Unable to load native-hadoop library for your platform... using builtin-java classes where applicable\n",
      "24/03/03 11:54:08 WARN Utils: Service 'SparkUI' could not bind on port 4040. Attempting port 4041.\n"
     ]
    }
   ],
   "source": [
    "from pyspark.sql import SparkSession\n",
    "from pyspark.sql.types import *\n",
    "from pyspark.sql.functions import *\n",
    "\n",
    "spark = SparkSession.builder.appName('ThExam').getOrCreate()"
   ]
  },
  {
   "cell_type": "code",
   "execution_count": 3,
   "id": "2fa629bb-d497-496c-a212-5d657919e3e1",
   "metadata": {},
   "outputs": [
    {
     "name": "stdout",
     "output_type": "stream",
     "text": [
      "2024-03-03 11:54:08.747054+07:00\n",
      "year:2024 | month=3 | day=3\n"
     ]
    }
   ],
   "source": [
    "local_timezone = pytz.timezone('Asia/Bangkok')\n",
    "execute_time = datetime.now(local_timezone)\n",
    "year = execute_time.year\n",
    "month = execute_time.month\n",
    "day = execute_time.day\n",
    "\n",
    "print(execute_time)\n",
    "print(\"year:{} | month={} | day={}\".format(year,month,day))"
   ]
  },
  {
   "cell_type": "markdown",
   "id": "bde8aa75-70a2-4f5c-bc99-70420f2ca979",
   "metadata": {},
   "source": [
    "## Load to Postgres "
   ]
  },
  {
   "cell_type": "code",
   "execution_count": 25,
   "id": "e4128bfb-f004-49c9-845c-ecb7b2dcc30c",
   "metadata": {},
   "outputs": [],
   "source": [
    "schema = StructType([\n",
    "    StructField(\"user\",StringType(),True),\n",
    "    StructField(\"timestamp\",TimestampType(),True),\n",
    "    StructField(\"hours\",DecimalType(5,2),True),\n",
    "    StructField(\"project\",StringType(),True),\n",
    "  ])"
   ]
  },
  {
   "cell_type": "code",
   "execution_count": 26,
   "id": "c91be452-7405-4cf7-acfc-01246c2ac469",
   "metadata": {},
   "outputs": [],
   "source": [
    "TABLE = 'dailycheckins'"
   ]
  },
  {
   "cell_type": "code",
   "execution_count": 27,
   "id": "0c72d917-2dc0-43f1-bce5-c6d9aadeef4f",
   "metadata": {},
   "outputs": [],
   "source": [
    "path = \"../tm-staging-zone/table={}/year={}/month={}/day={}/\".format(TABLE,year,month,day)\n",
    "df = spark.read.schema(schema).csv(path, header=True)"
   ]
  },
  {
   "cell_type": "code",
   "execution_count": 28,
   "id": "7f0bbaca-9ef4-42e7-8a47-d9e8e1076a08",
   "metadata": {},
   "outputs": [
    {
     "data": {
      "text/html": [
       "<div>\n",
       "<style scoped>\n",
       "    .dataframe tbody tr th:only-of-type {\n",
       "        vertical-align: middle;\n",
       "    }\n",
       "\n",
       "    .dataframe tbody tr th {\n",
       "        vertical-align: top;\n",
       "    }\n",
       "\n",
       "    .dataframe thead th {\n",
       "        text-align: right;\n",
       "    }\n",
       "</style>\n",
       "<table border=\"1\" class=\"dataframe\">\n",
       "  <thead>\n",
       "    <tr style=\"text-align: right;\">\n",
       "      <th></th>\n",
       "      <th>summary</th>\n",
       "      <th>user</th>\n",
       "      <th>hours</th>\n",
       "      <th>project</th>\n",
       "    </tr>\n",
       "  </thead>\n",
       "  <tbody>\n",
       "    <tr>\n",
       "      <th>0</th>\n",
       "      <td>count</td>\n",
       "      <td>20495</td>\n",
       "      <td>20500</td>\n",
       "      <td>20500</td>\n",
       "    </tr>\n",
       "    <tr>\n",
       "      <th>1</th>\n",
       "      <td>mean</td>\n",
       "      <td>None</td>\n",
       "      <td>2.071275</td>\n",
       "      <td>None</td>\n",
       "    </tr>\n",
       "    <tr>\n",
       "      <th>2</th>\n",
       "      <td>stddev</td>\n",
       "      <td>None</td>\n",
       "      <td>2.0047747481961506</td>\n",
       "      <td>None</td>\n",
       "    </tr>\n",
       "    <tr>\n",
       "      <th>3</th>\n",
       "      <td>min</td>\n",
       "      <td>arya</td>\n",
       "      <td>0.00</td>\n",
       "      <td>airflow</td>\n",
       "    </tr>\n",
       "    <tr>\n",
       "      <th>4</th>\n",
       "      <td>max</td>\n",
       "      <td>ygritte</td>\n",
       "      <td>30.00</td>\n",
       "      <td>workshops</td>\n",
       "    </tr>\n",
       "  </tbody>\n",
       "</table>\n",
       "</div>"
      ],
      "text/plain": [
       "  summary     user               hours    project\n",
       "0   count    20495               20500      20500\n",
       "1    mean     None            2.071275       None\n",
       "2  stddev     None  2.0047747481961506       None\n",
       "3     min     arya                0.00    airflow\n",
       "4     max  ygritte               30.00  workshops"
      ]
     },
     "execution_count": 28,
     "metadata": {},
     "output_type": "execute_result"
    }
   ],
   "source": [
    "df.describe().toPandas()"
   ]
  },
  {
   "cell_type": "code",
   "execution_count": 29,
   "id": "e2c2fa71-f122-4a11-8910-4a7fc0e3f869",
   "metadata": {},
   "outputs": [],
   "source": [
    "df = df.withColumnRenamed('user', 'username').drop('user')"
   ]
  },
  {
   "cell_type": "code",
   "execution_count": 31,
   "id": "85d19fce-a4e7-4ea2-b9a6-32db69b8cb0e",
   "metadata": {},
   "outputs": [
    {
     "name": "stdout",
     "output_type": "stream",
     "text": [
      "+--------+--------------------+-----+--------------------+\n",
      "|username|           timestamp|hours|             project|\n",
      "+--------+--------------------+-----+--------------------+\n",
      "|     ned| 2019-09-27 07:00:00| 8.00|              bizdev|\n",
      "|     ned| 2019-09-26 07:00:00| 1.00|cultureandmanagement|\n",
      "|     ned| 2019-09-26 07:00:00| 1.50|          project-00|\n",
      "|     ned| 2019-09-26 07:00:00| 1.00|          project-43|\n",
      "|   jaime| 2018-12-21 07:00:00| 0.50|          project-47|\n",
      "|   jaime| 2018-12-21 07:00:00| 3.50|          project-47|\n",
      "|   jaime| 2018-12-20 07:00:00| 1.50|          project-00|\n",
      "|   jaime| 2018-12-20 07:00:00| 1.50|          project-30|\n",
      "|   jaime| 2018-12-20 07:00:00| 1.00|          project-47|\n",
      "|   jaime| 2018-12-20 07:00:00| 3.00|          project-47|\n",
      "| catelyn|2018-11-26 21:47:...| 0.60|         opsandadmin|\n",
      "| catelyn|2018-11-26 21:47:...| 0.45|         opsandadmin|\n",
      "| catelyn|2018-11-26 21:47:...| 0.40|cultureandmanagement|\n",
      "| catelyn|2018-11-26 21:47:...| 0.08|            security|\n",
      "| catelyn|2018-11-26 21:47:...| 0.68|          project-43|\n",
      "| catelyn|2018-11-26 21:47:...| 0.35|         opsandadmin|\n",
      "| catelyn|2018-11-26 21:47:...| 1.53|          project-43|\n",
      "| catelyn|2018-11-26 21:47:...| 0.38|cultureandmanagement|\n",
      "| catelyn|2018-11-26 21:47:...| 0.62|cultureandmanagement|\n",
      "|  cersei|2018-11-26 20:17:...| 3.00|           blogideas|\n",
      "+--------+--------------------+-----+--------------------+\n",
      "only showing top 20 rows\n",
      "\n"
     ]
    },
    {
     "name": "stderr",
     "output_type": "stream",
     "text": [
      "24/03/03 12:00:25 WARN CSVHeaderChecker: Number of column in CSV header is not equal to number of fields in the schema:\n",
      " Header length: 5, schema size: 4\n",
      "CSV file: file:///Users/prachy/Git/tm-pipeline/tm-staging-zone/table=dailycheckins/year=2024/month=3/day=3/part-00000-7bd6a002-cf4e-4993-a925-cfd19d405ce9-c000.csv\n"
     ]
    }
   ],
   "source": [
    "df.show()"
   ]
  },
  {
   "cell_type": "code",
   "execution_count": 11,
   "id": "5b14a199-28a2-4f7a-919b-465bcb7ce951",
   "metadata": {},
   "outputs": [],
   "source": [
    "# aurora_postgres_url = \"jdbc:postgresql://database-1.cluster-cqnnuqtyqggk.ap-southeast-1.rds.amazonaws.com:5432/tm\"\n",
    "# aurora_postgres_properties = {\n",
    "#     \"user\": \"prachya\",\n",
    "#     \"password\": \"prachya2024\",\n",
    "#     \"driver\": \"org.postgresql.Driver\"\n",
    "# }"
   ]
  },
  {
   "cell_type": "code",
   "execution_count": 13,
   "id": "2fff6a7a-aea5-4926-81b4-fd94d9fdf3a8",
   "metadata": {},
   "outputs": [],
   "source": [
    "# df.limit(10).write\\\n",
    "# .format(\"jdbc\")\\\n",
    "# .option(\"url\", aurora_postgres_url)\\\n",
    "# .option(\"dbtable\", \"dailycheckin\")\\\n",
    "# .option(\"user\", aurora_postgres_properties[\"user\"])\\\n",
    "# .option(\"password\", aurora_postgres_properties[\"password\"])\\\n",
    "# .option(\"driver\", aurora_postgres_properties[\"driver\"])\\\n",
    "# .mode(\"append\")\\\n",
    "# .save()"
   ]
  },
  {
   "cell_type": "code",
   "execution_count": null,
   "id": "43c154f0-593b-4ff5-a816-e46248a2a57d",
   "metadata": {},
   "outputs": [],
   "source": []
  }
 ],
 "metadata": {
  "kernelspec": {
   "display_name": "pyspark",
   "language": "python",
   "name": "pyspark"
  },
  "language_info": {
   "codemirror_mode": {
    "name": "ipython",
    "version": 3
   },
   "file_extension": ".py",
   "mimetype": "text/x-python",
   "name": "python",
   "nbconvert_exporter": "python",
   "pygments_lexer": "ipython3",
   "version": "3.10.13"
  }
 },
 "nbformat": 4,
 "nbformat_minor": 5
}
