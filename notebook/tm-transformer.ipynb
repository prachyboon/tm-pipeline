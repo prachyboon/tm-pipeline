{
 "cells": [
  {
   "cell_type": "code",
   "execution_count": 4,
   "id": "c439e9ee-8910-405d-89e0-ee00805e07d3",
   "metadata": {},
   "outputs": [],
   "source": [
    "import locale\n",
    "import numpy as npa\n",
    "import pandas as pd\n",
    "\n",
    "import pytz\n",
    "from datetime import datetime"
   ]
  },
  {
   "cell_type": "code",
   "execution_count": 19,
   "id": "e5d6057a-e8e4-4460-a886-774857cab2a2",
   "metadata": {},
   "outputs": [],
   "source": [
    "from pyspark.sql import SparkSession\n",
    "from pyspark.sql.types import StringType, TimestampType, FloatType, IntegerType\n",
    "from pyspark.sql.functions import (col, monotonically_increasing_id, regexp_replace,\n",
    "                                   to_utc_timestamp, from_unixtime, unix_timestamp, round)\n",
    "\n",
    "spark = SparkSession.builder.appName('ThExam').getOrCreate()"
   ]
  },
  {
   "cell_type": "code",
   "execution_count": 6,
   "id": "63427560-2082-4f0c-87fe-6c17dc377884",
   "metadata": {},
   "outputs": [
    {
     "name": "stdout",
     "output_type": "stream",
     "text": [
      "2024-03-03 10:27:08.783819+07:00\n",
      "year:2024 | month=3 | day=3\n"
     ]
    }
   ],
   "source": [
    "local_timezone = pytz.timezone('Asia/Bangkok')\n",
    "execute_time = datetime.now(local_timezone)\n",
    "year = execute_time.year\n",
    "month = execute_time.month\n",
    "day = execute_time.day\n",
    "\n",
    "print(execute_time)\n",
    "print(\"year:{} | month={} | day={}\".format(year,month,day))"
   ]
  },
  {
   "cell_type": "code",
   "execution_count": 7,
   "id": "aa77d618-cf75-4071-9b61-8f045b2475ff",
   "metadata": {},
   "outputs": [],
   "source": [
    "TABLE = 'dailycheckins'"
   ]
  },
  {
   "cell_type": "code",
   "execution_count": 8,
   "id": "5ae41067-af51-409d-a896-6a00a7369a64",
   "metadata": {},
   "outputs": [],
   "source": [
    "path = \"../data/{}.csv\".format(TABLE)\n",
    "df = spark.read.csv(path, header=True)"
   ]
  },
  {
   "cell_type": "code",
   "execution_count": 9,
   "id": "ec42e7bf-a214-4fa7-b4f2-8b0d52ad075f",
   "metadata": {},
   "outputs": [],
   "source": [
    "df.sample(False, 0.1, seed=0).write\\\n",
    ".option(\"header\",\"true\")\\\n",
    ".mode('overwrite').csv(\"../test/table=dailycheckins/year={}/month={}/day={}/\".format(year,month,day))"
   ]
  },
  {
   "cell_type": "code",
   "execution_count": 10,
   "id": "67a9671d-676d-4abe-b659-46d2aa614867",
   "metadata": {},
   "outputs": [],
   "source": [
    "# \n",
    "# QA: what is the key for this dataset?\n",
    "#\n",
    "df = df.withColumn(\"id\", monotonically_increasing_id())"
   ]
  },
  {
   "cell_type": "code",
   "execution_count": 11,
   "id": "9641226b-e2c7-4f6f-9578-704376e264ba",
   "metadata": {},
   "outputs": [
    {
     "name": "stdout",
     "output_type": "stream",
     "text": [
      "root\n",
      " |-- user: string (nullable = true)\n",
      " |-- timestamp: string (nullable = true)\n",
      " |-- hours: string (nullable = true)\n",
      " |-- project: string (nullable = true)\n",
      " |-- id: long (nullable = false)\n",
      "\n"
     ]
    }
   ],
   "source": [
    "df.printSchema()"
   ]
  },
  {
   "cell_type": "code",
   "execution_count": 12,
   "id": "45980c7c-383c-4451-9de6-7a0197653eb3",
   "metadata": {},
   "outputs": [
    {
     "data": {
      "text/plain": [
       "20500"
      ]
     },
     "execution_count": 12,
     "metadata": {},
     "output_type": "execute_result"
    }
   ],
   "source": [
    "df.count()"
   ]
  },
  {
   "cell_type": "code",
   "execution_count": 13,
   "id": "6363338f-d1ab-4679-843a-fe2a5fe5dee7",
   "metadata": {},
   "outputs": [
    {
     "name": "stderr",
     "output_type": "stream",
     "text": [
      "24/03/03 10:27:13 WARN package: Truncated the string representation of a plan since it was too large. This behavior can be adjusted by setting 'spark.sql.debug.maxToStringFields'.\n"
     ]
    },
    {
     "data": {
      "text/html": [
       "<div>\n",
       "<style scoped>\n",
       "    .dataframe tbody tr th:only-of-type {\n",
       "        vertical-align: middle;\n",
       "    }\n",
       "\n",
       "    .dataframe tbody tr th {\n",
       "        vertical-align: top;\n",
       "    }\n",
       "\n",
       "    .dataframe thead th {\n",
       "        text-align: right;\n",
       "    }\n",
       "</style>\n",
       "<table border=\"1\" class=\"dataframe\">\n",
       "  <thead>\n",
       "    <tr style=\"text-align: right;\">\n",
       "      <th></th>\n",
       "      <th>summary</th>\n",
       "      <th>user</th>\n",
       "      <th>timestamp</th>\n",
       "      <th>hours</th>\n",
       "      <th>project</th>\n",
       "      <th>id</th>\n",
       "    </tr>\n",
       "  </thead>\n",
       "  <tbody>\n",
       "    <tr>\n",
       "      <th>0</th>\n",
       "      <td>count</td>\n",
       "      <td>20495</td>\n",
       "      <td>20500</td>\n",
       "      <td>20500</td>\n",
       "      <td>20500</td>\n",
       "      <td>20500</td>\n",
       "    </tr>\n",
       "    <tr>\n",
       "      <th>1</th>\n",
       "      <td>mean</td>\n",
       "      <td>None</td>\n",
       "      <td>None</td>\n",
       "      <td>2.0712743902439033</td>\n",
       "      <td>None</td>\n",
       "      <td>10249.5</td>\n",
       "    </tr>\n",
       "    <tr>\n",
       "      <th>2</th>\n",
       "      <td>stddev</td>\n",
       "      <td>None</td>\n",
       "      <td>None</td>\n",
       "      <td>2.0047749846887744</td>\n",
       "      <td>None</td>\n",
       "      <td>5917.98459500079</td>\n",
       "    </tr>\n",
       "    <tr>\n",
       "      <th>3</th>\n",
       "      <td>min</td>\n",
       "      <td>arya</td>\n",
       "      <td>01/03/2018 12:00 AM</td>\n",
       "      <td>0.0</td>\n",
       "      <td>airflow</td>\n",
       "      <td>0</td>\n",
       "    </tr>\n",
       "    <tr>\n",
       "      <th>4</th>\n",
       "      <td>max</td>\n",
       "      <td>ygritte</td>\n",
       "      <td>9 января 2018 00:00</td>\n",
       "      <td>9.5</td>\n",
       "      <td>workshops</td>\n",
       "      <td>20499</td>\n",
       "    </tr>\n",
       "  </tbody>\n",
       "</table>\n",
       "</div>"
      ],
      "text/plain": [
       "  summary     user            timestamp               hours    project  \\\n",
       "0   count    20495                20500               20500      20500   \n",
       "1    mean     None                 None  2.0712743902439033       None   \n",
       "2  stddev     None                 None  2.0047749846887744       None   \n",
       "3     min     arya  01/03/2018 12:00 AM                 0.0    airflow   \n",
       "4     max  ygritte  9 января 2018 00:00                 9.5  workshops   \n",
       "\n",
       "                 id  \n",
       "0             20500  \n",
       "1           10249.5  \n",
       "2  5917.98459500079  \n",
       "3                 0  \n",
       "4             20499  "
      ]
     },
     "execution_count": 13,
     "metadata": {},
     "output_type": "execute_result"
    }
   ],
   "source": [
    "df.describe().toPandas()"
   ]
  },
  {
   "cell_type": "code",
   "execution_count": 14,
   "id": "2a349205-b884-4c90-99b9-53968cc863e8",
   "metadata": {},
   "outputs": [
    {
     "name": "stdout",
     "output_type": "stream",
     "text": [
      "+--------+----------------------------+-----+-----------+---+\n",
      "|user    |timestamp                   |hours|project    |id |\n",
      "+--------+----------------------------+-----+-----------+---+\n",
      "|ned     |26 сентября 2019 00:00      |4.0  |bizdev     |2  |\n",
      "|jaime   |2018-12-20 00:00:00 UTC     |1.5  |project-00 |9  |\n",
      "|catelyn |2018-11-26 14:47:36.0429 UTC|0.08 |security   |16 |\n",
      "|daenerys|2018-11-26 12:55:30.0416 UTC|8.0  |blogideas  |26 |\n",
      "|jaime   |2018-11-26 12:11:58.0359 UTC|0.5  |opsandadmin|46 |\n",
      "|ned     |2018-11-26 12:08:09.0357 UTC|1.5  |transit    |57 |\n",
      "|jon     |2018-11-26 11:49:04.0334 UTC|2.5  |project-25 |58 |\n",
      "|sansa   |2018-11-26 11:48:33.0332 UTC|2.5  |project-51 |66 |\n",
      "|bran    |2018-11-26 00:00:00 UTC     |4.37 |project-31 |79 |\n",
      "|catelyn |2018-11-23 13:12:16.0135 UTC|1.1  |engineering|92 |\n",
      "+--------+----------------------------+-----+-----------+---+\n",
      "only showing top 10 rows\n",
      "\n"
     ]
    }
   ],
   "source": [
    "df.sample(False, 0.1, seed=0).show(10, truncate=False)"
   ]
  },
  {
   "cell_type": "markdown",
   "id": "5f464b5f-9346-44af-a65b-880e016623fe",
   "metadata": {},
   "source": [
    "# Clean"
   ]
  },
  {
   "cell_type": "code",
   "execution_count": 15,
   "id": "38f5d579-6fe9-48f6-bc02-22b5ac927b64",
   "metadata": {},
   "outputs": [],
   "source": [
    "def find_missing(df):\n",
    "    string_columns = ['user', 'project', 'timestamp']\n",
    "    numeric_columns = ['hours']\n",
    "    missing_values = {} \n",
    "\n",
    "    for index, column in enumerate(df.columns):\n",
    "        if column in string_columns: \n",
    "            missing_count = df.filter(col(column).eqNullSafe(None) | col(column).isNull()).count()\n",
    "            missing_values.update({column:missing_count})\n",
    "        if column in numeric_columns: \n",
    "            missing_count = df.where(col(column).isin([None,np.nan])).count()\n",
    "            missing_values.update({column:missing_count})\n",
    "    return missing_values"
   ]
  },
  {
   "cell_type": "code",
   "execution_count": 16,
   "id": "256958d6-055d-4e17-a0cd-eb2b8842b03f",
   "metadata": {},
   "outputs": [],
   "source": [
    "# string_columns = ['user', 'project', 'timestamp']\n",
    "# numeric_columns = ['hours']\n",
    "# missing_values = {} \n",
    "\n",
    "# for index, column in enumerate(df.columns):\n",
    "#     if column in string_columns: \n",
    "#         missing_count = df.filter(col(column).eqNullSafe(None) | col(column).isNull()).count()\n",
    "#         missing_values.update({column:missing_count})\n",
    "#     if column in numeric_columns: \n",
    "#         missing_count = df.where(col(column).isin([None,np.nan])).count()\n",
    "#         missing_values.update({column:missing_count})"
   ]
  },
  {
   "cell_type": "code",
   "execution_count": 17,
   "id": "0e8d83ea-9048-4c90-8a49-de67d38e571a",
   "metadata": {},
   "outputs": [
    {
     "ename": "NameError",
     "evalue": "name 'np' is not defined",
     "output_type": "error",
     "traceback": [
      "\u001b[0;31m---------------------------------------------------------------------------\u001b[0m",
      "\u001b[0;31mNameError\u001b[0m                                 Traceback (most recent call last)",
      "Cell \u001b[0;32mIn[17], line 1\u001b[0m\n\u001b[0;32m----> 1\u001b[0m missing_df \u001b[38;5;241m=\u001b[39m pd\u001b[38;5;241m.\u001b[39mDataFrame\u001b[38;5;241m.\u001b[39mfrom_dict([\u001b[43mfind_missing\u001b[49m\u001b[43m(\u001b[49m\u001b[43mdf\u001b[49m\u001b[43m)\u001b[49m])\n\u001b[1;32m      2\u001b[0m missing_df\n",
      "Cell \u001b[0;32mIn[15], line 11\u001b[0m, in \u001b[0;36mfind_missing\u001b[0;34m(df)\u001b[0m\n\u001b[1;32m      9\u001b[0m         missing_values\u001b[38;5;241m.\u001b[39mupdate({column:missing_count})\n\u001b[1;32m     10\u001b[0m     \u001b[38;5;28;01mif\u001b[39;00m column \u001b[38;5;129;01min\u001b[39;00m numeric_columns: \n\u001b[0;32m---> 11\u001b[0m         missing_count \u001b[38;5;241m=\u001b[39m df\u001b[38;5;241m.\u001b[39mwhere(col(column)\u001b[38;5;241m.\u001b[39misin([\u001b[38;5;28;01mNone\u001b[39;00m,\u001b[43mnp\u001b[49m\u001b[38;5;241m.\u001b[39mnan]))\u001b[38;5;241m.\u001b[39mcount()\n\u001b[1;32m     12\u001b[0m         missing_values\u001b[38;5;241m.\u001b[39mupdate({column:missing_count})\n\u001b[1;32m     13\u001b[0m \u001b[38;5;28;01mreturn\u001b[39;00m missing_values\n",
      "\u001b[0;31mNameError\u001b[0m: name 'np' is not defined"
     ]
    }
   ],
   "source": [
    "missing_df = pd.DataFrame.from_dict([find_missing(df)])\n",
    "missing_df"
   ]
  },
  {
   "cell_type": "markdown",
   "id": "e03ba9d4-924d-4cc1-8847-39408a565944",
   "metadata": {},
   "source": [
    "## Casting to make it right"
   ]
  },
  {
   "cell_type": "code",
   "execution_count": 18,
   "id": "24402f53-0365-4ef4-b4f3-f2b3a5c21735",
   "metadata": {},
   "outputs": [
    {
     "ename": "NameError",
     "evalue": "name 'IntegerType' is not defined",
     "output_type": "error",
     "traceback": [
      "\u001b[0;31m---------------------------------------------------------------------------\u001b[0m",
      "\u001b[0;31mNameError\u001b[0m                                 Traceback (most recent call last)",
      "Cell \u001b[0;32mIn[18], line 1\u001b[0m\n\u001b[0;32m----> 1\u001b[0m df2 \u001b[38;5;241m=\u001b[39m df\u001b[38;5;241m.\u001b[39mwithColumn(\u001b[38;5;124m'\u001b[39m\u001b[38;5;124mid\u001b[39m\u001b[38;5;124m'\u001b[39m, col(\u001b[38;5;124m'\u001b[39m\u001b[38;5;124mid\u001b[39m\u001b[38;5;124m'\u001b[39m)\u001b[38;5;241m.\u001b[39mcast(\u001b[43mIntegerType\u001b[49m()))\n",
      "\u001b[0;31mNameError\u001b[0m: name 'IntegerType' is not defined"
     ]
    }
   ],
   "source": [
    "df2 = df.withColumn('id', col('id').cast(IntegerType()))"
   ]
  },
  {
   "cell_type": "code",
   "execution_count": null,
   "id": "90b3552a-99a0-4052-be0b-4e8e5bc15030",
   "metadata": {},
   "outputs": [],
   "source": [
    "df2 = df.withColumn('user', col('id').cast(StringType()))"
   ]
  },
  {
   "cell_type": "code",
   "execution_count": 531,
   "id": "730339a1-beba-4683-a754-d18cf9d2f155",
   "metadata": {},
   "outputs": [],
   "source": [
    "df2 = df2.withColumn('hours', col('hours').cast(FloatType()))"
   ]
  },
  {
   "cell_type": "code",
   "execution_count": 533,
   "id": "b283309a-5d0b-47f1-9373-430992a01031",
   "metadata": {},
   "outputs": [],
   "source": [
    "df2 = df2.withColumn('hours', round(col('hours'), 2))"
   ]
  },
  {
   "cell_type": "code",
   "execution_count": null,
   "id": "fd03b6ea-5fd9-4bff-b72e-b54a21424bb2",
   "metadata": {},
   "outputs": [],
   "source": [
    "df2 = df2.withColumn('timestamp', col('timestamp').cast(TimestampType()))"
   ]
  },
  {
   "cell_type": "code",
   "execution_count": 534,
   "id": "8b0c3357-0fb9-4a3f-ba83-36df0b391c4e",
   "metadata": {},
   "outputs": [
    {
     "name": "stdout",
     "output_type": "stream",
     "text": [
      "+--------+----------------------------+-----+-----------+---+\n",
      "|user    |timestamp                   |hours|project    |id |\n",
      "+--------+----------------------------+-----+-----------+---+\n",
      "|ned     |26 сентября 2019 00:00      |4.0  |bizdev     |2  |\n",
      "|jaime   |2018-12-20 00:00:00 UTC     |1.5  |project-00 |9  |\n",
      "|catelyn |2018-11-26 14:47:36.0429 UTC|0.08 |security   |16 |\n",
      "|daenerys|2018-11-26 12:55:30.0416 UTC|8.0  |blogideas  |26 |\n",
      "|jaime   |2018-11-26 12:11:58.0359 UTC|0.5  |opsandadmin|46 |\n",
      "|ned     |2018-11-26 12:08:09.0357 UTC|1.5  |transit    |57 |\n",
      "|jon     |2018-11-26 11:49:04.0334 UTC|2.5  |project-25 |58 |\n",
      "|sansa   |2018-11-26 11:48:33.0332 UTC|2.5  |project-51 |66 |\n",
      "|bran    |2018-11-26 00:00:00 UTC     |4.37 |project-31 |79 |\n",
      "|catelyn |2018-11-23 13:12:16.0135 UTC|1.1  |engineering|92 |\n",
      "+--------+----------------------------+-----+-----------+---+\n",
      "only showing top 10 rows\n",
      "\n"
     ]
    }
   ],
   "source": [
    "df2.sample(False, 0.1, seed=0).show(10, truncate=False)"
   ]
  },
  {
   "cell_type": "code",
   "execution_count": 535,
   "id": "707a7762-a994-4c1c-8d79-b6509cfc52b5",
   "metadata": {},
   "outputs": [
    {
     "data": {
      "text/html": [
       "<div>\n",
       "<style scoped>\n",
       "    .dataframe tbody tr th:only-of-type {\n",
       "        vertical-align: middle;\n",
       "    }\n",
       "\n",
       "    .dataframe tbody tr th {\n",
       "        vertical-align: top;\n",
       "    }\n",
       "\n",
       "    .dataframe thead th {\n",
       "        text-align: right;\n",
       "    }\n",
       "</style>\n",
       "<table border=\"1\" class=\"dataframe\">\n",
       "  <thead>\n",
       "    <tr style=\"text-align: right;\">\n",
       "      <th></th>\n",
       "      <th>user</th>\n",
       "      <th>timestamp</th>\n",
       "      <th>hours</th>\n",
       "      <th>project</th>\n",
       "    </tr>\n",
       "  </thead>\n",
       "  <tbody>\n",
       "    <tr>\n",
       "      <th>0</th>\n",
       "      <td>5</td>\n",
       "      <td>0</td>\n",
       "      <td>0</td>\n",
       "      <td>0</td>\n",
       "    </tr>\n",
       "  </tbody>\n",
       "</table>\n",
       "</div>"
      ],
      "text/plain": [
       "   user  timestamp  hours  project\n",
       "0     5          0      0        0"
      ]
     },
     "execution_count": 535,
     "metadata": {},
     "output_type": "execute_result"
    }
   ],
   "source": [
    "missing_df = pd.DataFrame.from_dict([find_missing(df2)])\n",
    "missing_df"
   ]
  },
  {
   "cell_type": "code",
   "execution_count": 537,
   "id": "1f8298a6-f7c8-465f-b0a3-680de2bd8183",
   "metadata": {},
   "outputs": [
    {
     "name": "stdout",
     "output_type": "stream",
     "text": [
      "+----+------------------------------+-----+----------+-----+\n",
      "|user|timestamp                     |hours|project   |id   |\n",
      "+----+------------------------------+-----+----------+-----+\n",
      "|null|2017-12-27 10:36:14.000121 UTC|4.0  |project-40|15797|\n",
      "|null|2017-12-27 10:36:14.000121 UTC|3.0  |learning  |15798|\n",
      "|null|2017-10-12 10:31:44.000227 UTC|2.75 |project-47|17572|\n",
      "|null|2017-10-12 10:31:44.000227 UTC|4.0  |bizdev    |17573|\n",
      "|null|2017-10-12 10:31:44.000227 UTC|1.0  |transit   |17574|\n",
      "+----+------------------------------+-----+----------+-----+\n",
      "\n"
     ]
    }
   ],
   "source": [
    "df2.filter(col('user').eqNullSafe(None) | col('user').isNull()).show(truncate=False)"
   ]
  },
  {
   "cell_type": "code",
   "execution_count": 542,
   "id": "f9bdff5b-1722-4273-a55e-b79f467bdc50",
   "metadata": {},
   "outputs": [
    {
     "name": "stdout",
     "output_type": "stream",
     "text": [
      "2047\n"
     ]
    },
    {
     "name": "stderr",
     "output_type": "stream",
     "text": [
      "24/03/02 01:46:32 WARN SQLConf: The SQL config 'spark.sql.legacy.parquet.datetimeRebaseModeInWrite' has been deprecated in Spark v3.2 and may be removed in the future. Use 'spark.sql.parquet.datetimeRebaseModeInWrite' instead.\n"
     ]
    }
   ],
   "source": [
    "# filter out null rows \n",
    "ids = df2.filter(col('timestamp').eqNullSafe(None) | col('timestamp').isNull()).select('id').rdd.flatMap(lambda x: x).collect()\n",
    "print(len(ids))"
   ]
  },
  {
   "cell_type": "code",
   "execution_count": 543,
   "id": "45111171-443e-47d0-9d98-d21c481faf3c",
   "metadata": {},
   "outputs": [
    {
     "data": {
      "text/plain": [
       "18453"
      ]
     },
     "execution_count": 543,
     "metadata": {},
     "output_type": "execute_result"
    }
   ],
   "source": [
    "df2 = df2.filter(~col(\"id\").isin(ids))\n",
    "df2.count()"
   ]
  },
  {
   "cell_type": "code",
   "execution_count": 544,
   "id": "090463f2-6f1a-41ca-bff2-7bf5f07b63c3",
   "metadata": {},
   "outputs": [
    {
     "data": {
      "text/plain": [
       "2047"
      ]
     },
     "execution_count": 544,
     "metadata": {},
     "output_type": "execute_result"
    }
   ],
   "source": [
    "df3 = df.filter(col(\"id\").isin(ids))\n",
    "df3.count()"
   ]
  },
  {
   "cell_type": "code",
   "execution_count": 545,
   "id": "15f2f0a6-e2d1-4f4e-9dba-30f642792401",
   "metadata": {},
   "outputs": [
    {
     "name": "stdout",
     "output_type": "stream",
     "text": [
      "+------------+--------------------+-----+-----------+---+\n",
      "|user        |timestamp           |hours|project    |id |\n",
      "+------------+--------------------+-----+-----------+---+\n",
      "|jaime       |12/21/2018 12:00 AM |2.0  |project-00 |6  |\n",
      "|catelyn     |23 ноября 2018 13:12|2.37 |project-40 |91 |\n",
      "|joffrey     |22 ноября 2018 14:12|2.0  |bizdev     |170|\n",
      "|sansa       |11/21/2018 12:00 AM |1.5  |learning   |300|\n",
      "|littlefinger|11/19/2018 12:15 PM |3.0  |opsandadmin|470|\n",
      "|hound       |16 ноября 2018 00:00|0.5  |events     |628|\n",
      "|hound       |16 ноября 2018 00:00|0.75 |marketing  |635|\n",
      "|bran        |11/15/2018 12:00 AM |6.08 |project-66 |709|\n",
      "|hound       |11/13/2018 12:00 AM |0.5  |blogideas  |820|\n",
      "|samwell     |12 ноября 2018 00:00|6.5  |project-26 |902|\n",
      "+------------+--------------------+-----+-----------+---+\n",
      "only showing top 10 rows\n",
      "\n"
     ]
    }
   ],
   "source": [
    "df3.sample(False, 0.1, seed=0).show(10, truncate=False)"
   ]
  },
  {
   "cell_type": "code",
   "execution_count": 546,
   "id": "5620573d-e10b-4571-93c1-d7a506c53cb0",
   "metadata": {},
   "outputs": [],
   "source": [
    "# alian formats \n",
    "# 1.09/27/2019 12:00 AM\n",
    "# 2.dd MMMM yyyy HH:|mm"
   ]
  },
  {
   "cell_type": "code",
   "execution_count": 547,
   "id": "84459e0d-467f-4f6e-b867-ac167b60f566",
   "metadata": {},
   "outputs": [],
   "source": [
    "# unix_timestamp\n",
    "# from_unixtime\n",
    "# to_utc_timestamp"
   ]
  },
  {
   "cell_type": "code",
   "execution_count": 548,
   "id": "490c8356-fa04-4581-9dab-2cdf717dd7f9",
   "metadata": {},
   "outputs": [],
   "source": [
    "df3 = df3.withColumn('timestamp', to_utc_timestamp(from_unixtime(unix_timestamp(col('timestamp'), \"MM/dd/yyyy hh:mm a\")), 'UTC'))\n",
    "# for format \"MM/dd/yyyy hh:mm a\"\n",
    "df3.count()"
   ]
  },
  {
   "cell_type": "code",
   "execution_count": 550,
   "id": "843b73e4-c6da-4fba-88db-2462e5d4602b",
   "metadata": {},
   "outputs": [
    {
     "data": {
      "text/html": [
       "<div>\n",
       "<style scoped>\n",
       "    .dataframe tbody tr th:only-of-type {\n",
       "        vertical-align: middle;\n",
       "    }\n",
       "\n",
       "    .dataframe tbody tr th {\n",
       "        vertical-align: top;\n",
       "    }\n",
       "\n",
       "    .dataframe thead th {\n",
       "        text-align: right;\n",
       "    }\n",
       "</style>\n",
       "<table border=\"1\" class=\"dataframe\">\n",
       "  <thead>\n",
       "    <tr style=\"text-align: right;\">\n",
       "      <th></th>\n",
       "      <th>user</th>\n",
       "      <th>timestamp</th>\n",
       "      <th>hours</th>\n",
       "      <th>project</th>\n",
       "    </tr>\n",
       "  </thead>\n",
       "  <tbody>\n",
       "    <tr>\n",
       "      <th>0</th>\n",
       "      <td>0</td>\n",
       "      <td>1022</td>\n",
       "      <td>0</td>\n",
       "      <td>0</td>\n",
       "    </tr>\n",
       "  </tbody>\n",
       "</table>\n",
       "</div>"
      ],
      "text/plain": [
       "   user  timestamp  hours  project\n",
       "0     0       1022      0        0"
      ]
     },
     "execution_count": 550,
     "metadata": {},
     "output_type": "execute_result"
    }
   ],
   "source": [
    "missing_df = pd.DataFrame.from_dict([find_missing(df3)])\n",
    "missing_df"
   ]
  },
  {
   "cell_type": "code",
   "execution_count": 551,
   "id": "9c4b4cce-5b57-4146-b3a9-e03aa4d882db",
   "metadata": {},
   "outputs": [
    {
     "data": {
      "text/plain": [
       "1022"
      ]
     },
     "execution_count": 551,
     "metadata": {},
     "output_type": "execute_result"
    }
   ],
   "source": [
    "df3.filter(col('timestamp').eqNullSafe(None) | col('timestamp').isNull()).count()"
   ]
  },
  {
   "cell_type": "code",
   "execution_count": 552,
   "id": "02aafd88-260e-45ff-a37b-0fb7c0b3c875",
   "metadata": {},
   "outputs": [
    {
     "name": "stderr",
     "output_type": "stream",
     "text": [
      "24/03/02 01:46:58 WARN SQLConf: The SQL config 'spark.sql.legacy.parquet.datetimeRebaseModeInWrite' has been deprecated in Spark v3.2 and may be removed in the future. Use 'spark.sql.parquet.datetimeRebaseModeInWrite' instead.\n"
     ]
    }
   ],
   "source": [
    "ruIDs = df3.filter(col('timestamp').eqNullSafe(None) | col('timestamp').isNull()).select('id').rdd.flatMap(lambda x: x).collect()"
   ]
  },
  {
   "cell_type": "code",
   "execution_count": 553,
   "id": "f984a893-f561-4664-8a8d-6da141380f94",
   "metadata": {},
   "outputs": [
    {
     "data": {
      "text/plain": [
       "1025"
      ]
     },
     "execution_count": 553,
     "metadata": {},
     "output_type": "execute_result"
    }
   ],
   "source": [
    "df3 = df3.filter(~col(\"id\").isin(ruIDs))\n",
    "df3.count()"
   ]
  },
  {
   "cell_type": "code",
   "execution_count": 554,
   "id": "60878ddc-181d-4c80-a083-506ae1d9835f",
   "metadata": {},
   "outputs": [],
   "source": [
    "df4 = df.filter(col(\"id\").isin(ruIDs))"
   ]
  },
  {
   "cell_type": "code",
   "execution_count": 555,
   "id": "f00e79fe-a74a-4105-8b48-d0c77d1aa624",
   "metadata": {},
   "outputs": [
    {
     "name": "stdout",
     "output_type": "stream",
     "text": [
      "+-------+---------------------+-----+------------+----+\n",
      "|user   |timestamp            |hours|project     |id  |\n",
      "+-------+---------------------+-----+------------+----+\n",
      "|viserys|26 ноября 2018 12:30 |0.5  |opsandadmin |38  |\n",
      "|sansa  |23 ноября 2018 00:00 |1.0  |project-51  |140 |\n",
      "|jeor   |21 ноября 2018 10:14 |1.5  |bizdev      |269 |\n",
      "|catelyn|19 ноября 2018 13:29 |0.33 |opsandadmin |448 |\n",
      "|catelyn|12 ноября 2018 11:01 |0.82 |project-38  |876 |\n",
      "|bronn  |6 ноября 2018 00:00  |1.75 |website     |1326|\n",
      "|jeor   |6 ноября 2018 00:00  |2.5  |project-30  |1341|\n",
      "|jon    |31 октября 2018 15:55|4.0  |project-25  |1495|\n",
      "|stannis|29 октября 2018 00:00|0.82 |project-00  |1749|\n",
      "|sansa  |24 октября 2018 00:00|0.5  |datastrategy|2025|\n",
      "+-------+---------------------+-----+------------+----+\n",
      "only showing top 10 rows\n",
      "\n"
     ]
    }
   ],
   "source": [
    "df4.sample(False, 0.1, seed=0).show(10, truncate=False)"
   ]
  },
  {
   "cell_type": "markdown",
   "id": "50bdb3de-f6ec-4b26-924a-2665c3d95c49",
   "metadata": {},
   "source": [
    "## Cast RU"
   ]
  },
  {
   "cell_type": "code",
   "execution_count": 556,
   "id": "da3b8db4-e2e8-4318-a76c-56eb97dcce9d",
   "metadata": {},
   "outputs": [],
   "source": [
    "month_mapping = {\n",
    "    'января': 'January',\n",
    "    'февраля': 'February',\n",
    "    'марта': 'March',\n",
    "    'апреля': 'April',\n",
    "    'мая': 'May',\n",
    "    'июня': 'June',\n",
    "    'июля': 'July',\n",
    "    'августа': 'August',\n",
    "    'сентября': 'September',\n",
    "    'октября': 'October',\n",
    "    'ноября': 'November',\n",
    "    'декабря': 'December'\n",
    "}\n",
    "for russian_month, english_month in month_mapping.items():\n",
    "    df4 = df4.withColumn('timestamp', regexp_replace(col('timestamp'), russian_month, english_month))"
   ]
  },
  {
   "cell_type": "code",
   "execution_count": 557,
   "id": "775d6894-aadb-4523-8720-c91f675c98c9",
   "metadata": {},
   "outputs": [],
   "source": [
    "spark.conf.set(\"spark.sql.legacy.timeParserPolicy\", \"LEGACY\")\n",
    "spark.conf.set(\"spark.sql.parquet.datetimeRebaseModeInWrite\", \"CORRECTED\")\n",
    "\n",
    "df4 = df4.withColumn('timestamp', to_utc_timestamp(from_unixtime(unix_timestamp(col('timestamp'), \"dd MMMM y HH:mm\")), 'UTC'))"
   ]
  },
  {
   "cell_type": "code",
   "execution_count": 559,
   "id": "edaf4ab5-96a4-4ee3-bbb9-ce9af91c655a",
   "metadata": {},
   "outputs": [
    {
     "name": "stdout",
     "output_type": "stream",
     "text": [
      "+-------+-------------------+-----+------------+----+\n",
      "|user   |timestamp          |hours|project     |id  |\n",
      "+-------+-------------------+-----+------------+----+\n",
      "|viserys|2018-11-26 12:30:00|0.5  |opsandadmin |38  |\n",
      "|sansa  |2018-11-23 00:00:00|1.0  |project-51  |140 |\n",
      "|jeor   |2018-11-21 10:14:00|1.5  |bizdev      |269 |\n",
      "|catelyn|2018-11-19 13:29:00|0.33 |opsandadmin |448 |\n",
      "|catelyn|2018-11-12 11:01:00|0.82 |project-38  |876 |\n",
      "|bronn  |2018-11-06 00:00:00|1.75 |website     |1326|\n",
      "|jeor   |2018-11-06 00:00:00|2.5  |project-30  |1341|\n",
      "|jon    |2018-10-31 15:55:00|4.0  |project-25  |1495|\n",
      "|stannis|2018-10-29 00:00:00|0.82 |project-00  |1749|\n",
      "|sansa  |2018-10-24 00:00:00|0.5  |datastrategy|2025|\n",
      "+-------+-------------------+-----+------------+----+\n",
      "only showing top 10 rows\n",
      "\n"
     ]
    },
    {
     "data": {
      "text/plain": [
       "1022"
      ]
     },
     "execution_count": 559,
     "metadata": {},
     "output_type": "execute_result"
    }
   ],
   "source": [
    "df4.sample(False, 0.1, seed=0).show(10, truncate=False)\n",
    "df4.count()"
   ]
  },
  {
   "cell_type": "code",
   "execution_count": 560,
   "id": "6be1bca1-7c5e-418c-beeb-d740f52fb431",
   "metadata": {},
   "outputs": [
    {
     "data": {
      "text/html": [
       "<div>\n",
       "<style scoped>\n",
       "    .dataframe tbody tr th:only-of-type {\n",
       "        vertical-align: middle;\n",
       "    }\n",
       "\n",
       "    .dataframe tbody tr th {\n",
       "        vertical-align: top;\n",
       "    }\n",
       "\n",
       "    .dataframe thead th {\n",
       "        text-align: right;\n",
       "    }\n",
       "</style>\n",
       "<table border=\"1\" class=\"dataframe\">\n",
       "  <thead>\n",
       "    <tr style=\"text-align: right;\">\n",
       "      <th></th>\n",
       "      <th>user</th>\n",
       "      <th>timestamp</th>\n",
       "      <th>hours</th>\n",
       "      <th>project</th>\n",
       "    </tr>\n",
       "  </thead>\n",
       "  <tbody>\n",
       "    <tr>\n",
       "      <th>0</th>\n",
       "      <td>0</td>\n",
       "      <td>0</td>\n",
       "      <td>0</td>\n",
       "      <td>0</td>\n",
       "    </tr>\n",
       "  </tbody>\n",
       "</table>\n",
       "</div>"
      ],
      "text/plain": [
       "   user  timestamp  hours  project\n",
       "0     0          0      0        0"
      ]
     },
     "execution_count": 560,
     "metadata": {},
     "output_type": "execute_result"
    }
   ],
   "source": [
    "missing_df = pd.DataFrame.from_dict([find_missing(df4)])\n",
    "missing_df"
   ]
  },
  {
   "cell_type": "code",
   "execution_count": 562,
   "id": "c19592ed-c387-4fad-9fc5-f378fbe8bc95",
   "metadata": {},
   "outputs": [],
   "source": [
    "final_df = df2.unionByName(df3).unionByName(df4)"
   ]
  },
  {
   "cell_type": "code",
   "execution_count": 563,
   "id": "d3cdf131-b2a1-4687-a00e-314bc9a74357",
   "metadata": {},
   "outputs": [
    {
     "data": {
      "text/html": [
       "<div>\n",
       "<style scoped>\n",
       "    .dataframe tbody tr th:only-of-type {\n",
       "        vertical-align: middle;\n",
       "    }\n",
       "\n",
       "    .dataframe tbody tr th {\n",
       "        vertical-align: top;\n",
       "    }\n",
       "\n",
       "    .dataframe thead th {\n",
       "        text-align: right;\n",
       "    }\n",
       "</style>\n",
       "<table border=\"1\" class=\"dataframe\">\n",
       "  <thead>\n",
       "    <tr style=\"text-align: right;\">\n",
       "      <th></th>\n",
       "      <th>summary</th>\n",
       "      <th>user</th>\n",
       "      <th>hours</th>\n",
       "      <th>project</th>\n",
       "      <th>id</th>\n",
       "    </tr>\n",
       "  </thead>\n",
       "  <tbody>\n",
       "    <tr>\n",
       "      <th>0</th>\n",
       "      <td>count</td>\n",
       "      <td>20495</td>\n",
       "      <td>20500</td>\n",
       "      <td>20500</td>\n",
       "      <td>20500</td>\n",
       "    </tr>\n",
       "    <tr>\n",
       "      <th>1</th>\n",
       "      <td>mean</td>\n",
       "      <td>None</td>\n",
       "      <td>2.0712746341463433</td>\n",
       "      <td>None</td>\n",
       "      <td>10249.5</td>\n",
       "    </tr>\n",
       "    <tr>\n",
       "      <th>2</th>\n",
       "      <td>stddev</td>\n",
       "      <td>None</td>\n",
       "      <td>2.0047747481961506</td>\n",
       "      <td>None</td>\n",
       "      <td>5917.984595000784</td>\n",
       "    </tr>\n",
       "    <tr>\n",
       "      <th>3</th>\n",
       "      <td>min</td>\n",
       "      <td>arya</td>\n",
       "      <td>0.0</td>\n",
       "      <td>airflow</td>\n",
       "      <td>0</td>\n",
       "    </tr>\n",
       "    <tr>\n",
       "      <th>4</th>\n",
       "      <td>max</td>\n",
       "      <td>ygritte</td>\n",
       "      <td>9.5</td>\n",
       "      <td>workshops</td>\n",
       "      <td>20499</td>\n",
       "    </tr>\n",
       "  </tbody>\n",
       "</table>\n",
       "</div>"
      ],
      "text/plain": [
       "  summary     user               hours    project                 id\n",
       "0   count    20495               20500      20500              20500\n",
       "1    mean     None  2.0712746341463433       None            10249.5\n",
       "2  stddev     None  2.0047747481961506       None  5917.984595000784\n",
       "3     min     arya                 0.0    airflow                  0\n",
       "4     max  ygritte                 9.5  workshops              20499"
      ]
     },
     "execution_count": 563,
     "metadata": {},
     "output_type": "execute_result"
    }
   ],
   "source": [
    "final_df.describe().toPandas()"
   ]
  },
  {
   "cell_type": "code",
   "execution_count": 564,
   "id": "7babe551-5798-4210-9ad3-0d4692711f20",
   "metadata": {},
   "outputs": [
    {
     "name": "stdout",
     "output_type": "stream",
     "text": [
      "+------+-------------------+-----+--------------------+---+\n",
      "|user  |timestamp          |hours|project             |id |\n",
      "+------+-------------------+-----+--------------------+---+\n",
      "|ned   |2019-09-27 07:00:00|8.0  |bizdev              |0  |\n",
      "|robert|2019-09-27 00:00:00|8.0  |bizdev              |1  |\n",
      "|ned   |2019-09-26 00:00:00|4.0  |bizdev              |2  |\n",
      "|ned   |2019-09-26 07:00:00|1.0  |cultureandmanagement|3  |\n",
      "|ned   |2019-09-26 07:00:00|1.5  |project-00          |4  |\n",
      "|ned   |2019-09-26 07:00:00|1.0  |project-43          |5  |\n",
      "|jaime |2018-12-21 00:00:00|2.0  |project-00          |6  |\n",
      "|jaime |2018-12-21 07:00:00|0.5  |project-47          |7  |\n",
      "|jaime |2018-12-21 07:00:00|3.5  |project-47          |8  |\n",
      "|jaime |2018-12-20 07:00:00|1.5  |project-00          |9  |\n",
      "+------+-------------------+-----+--------------------+---+\n",
      "only showing top 10 rows\n",
      "\n"
     ]
    }
   ],
   "source": [
    "final_df.orderBy('id').show(10, truncate=False)"
   ]
  },
  {
   "cell_type": "code",
   "execution_count": 570,
   "id": "07517b58-d4fe-4016-bb6d-87383fcecd5d",
   "metadata": {},
   "outputs": [
    {
     "data": {
      "text/plain": [
       "20500"
      ]
     },
     "execution_count": 570,
     "metadata": {},
     "output_type": "execute_result"
    }
   ],
   "source": [
    "final_df = final_df.orderBy('id').drop('id')\n",
    "final_df.count()"
   ]
  },
  {
   "cell_type": "code",
   "execution_count": 571,
   "id": "7f3215a0-008d-45f3-bedf-eeaa1a68f965",
   "metadata": {},
   "outputs": [
    {
     "name": "stdout",
     "output_type": "stream",
     "text": [
      "root\n",
      " |-- user: string (nullable = true)\n",
      " |-- timestamp: string (nullable = true)\n",
      " |-- hours: string (nullable = true)\n",
      " |-- project: string (nullable = true)\n",
      "\n"
     ]
    }
   ],
   "source": [
    "final_df.printSchema()"
   ]
  },
  {
   "cell_type": "code",
   "execution_count": 572,
   "id": "b2094b8c-e85c-47b5-a302-e8bae4f317f4",
   "metadata": {},
   "outputs": [
    {
     "name": "stdout",
     "output_type": "stream",
     "text": [
      "+------+-------------------+-----+--------------------+\n",
      "|user  |timestamp          |hours|project             |\n",
      "+------+-------------------+-----+--------------------+\n",
      "|ned   |2019-09-27 07:00:00|8.0  |bizdev              |\n",
      "|robert|2019-09-27 00:00:00|8.0  |bizdev              |\n",
      "|ned   |2019-09-26 00:00:00|4.0  |bizdev              |\n",
      "|ned   |2019-09-26 07:00:00|1.0  |cultureandmanagement|\n",
      "|ned   |2019-09-26 07:00:00|1.5  |project-00          |\n",
      "|ned   |2019-09-26 07:00:00|1.0  |project-43          |\n",
      "|jaime |2018-12-21 00:00:00|2.0  |project-00          |\n",
      "|jaime |2018-12-21 07:00:00|0.5  |project-47          |\n",
      "|jaime |2018-12-21 07:00:00|3.5  |project-47          |\n",
      "|jaime |2018-12-20 07:00:00|1.5  |project-00          |\n",
      "+------+-------------------+-----+--------------------+\n",
      "only showing top 10 rows\n",
      "\n"
     ]
    }
   ],
   "source": [
    "final_df.show(10, truncate=False)"
   ]
  },
  {
   "cell_type": "code",
   "execution_count": 573,
   "id": "47107f87-4a7f-4c4b-835f-3938ecda0baa",
   "metadata": {},
   "outputs": [],
   "source": [
    "final_df = final_df.withColumn('timestamp', date_format(from_utc_timestamp(col('timestamp'), \"UTC\"), \"yyyy-MM-dd HH:mm:ss\"))"
   ]
  },
  {
   "cell_type": "code",
   "execution_count": 574,
   "id": "11ec7908-bdd8-4377-9a0e-6de62a2342f7",
   "metadata": {},
   "outputs": [],
   "source": [
    "final_df.write\\\n",
    ".option(\"header\",\"true\")\\\n",
    ".mode('overwrite').csv(\"../state=transform/table=dailycheckins/year={}/month={}/day={}/\".format(year,month,day))"
   ]
  },
  {
   "cell_type": "code",
   "execution_count": null,
   "id": "8281b5b0-eef7-49ae-be52-4cd9963aa082",
   "metadata": {},
   "outputs": [],
   "source": []
  },
  {
   "cell_type": "markdown",
   "id": "3c158fc2-2c86-442e-a718-7a63f8daf408",
   "metadata": {},
   "source": [
    "# Production"
   ]
  },
  {
   "cell_type": "code",
   "execution_count": 20,
   "id": "a9c59eac-1626-4c12-be03-2817a30dcb88",
   "metadata": {},
   "outputs": [],
   "source": [
    "# schema = StructType([\n",
    "#     StructField(\"user\",StringType(),True),\n",
    "#     StructField(\"timestamp\",TimestampType(),True),\n",
    "#     StructField(\"hours\",FloatType(),True),\n",
    "#     StructField(\"project\",StringType(),True),\n",
    "#   ])"
   ]
  },
  {
   "cell_type": "code",
   "execution_count": 21,
   "id": "19432daf-dcf2-4db2-9a06-9f6b0431079d",
   "metadata": {},
   "outputs": [],
   "source": [
    "# landing_data_path=\"s3/{buckey}/table=dailycheckins/year=2024/month=3/day=1/dailycheckins.csv\"\n",
    "landing_data_path = \"../data/dailycheckins.csv\"\n",
    "df = spark.read.csv(path, header=True)"
   ]
  },
  {
   "cell_type": "code",
   "execution_count": 22,
   "id": "9c37d93f-07a4-4d8e-8041-8c2f72268c1f",
   "metadata": {},
   "outputs": [],
   "source": [
    "df = df.withColumn(\"id\", monotonically_increasing_id())"
   ]
  },
  {
   "cell_type": "code",
   "execution_count": 23,
   "id": "df176282-7e69-4e21-b167-e432f6f5997a",
   "metadata": {},
   "outputs": [],
   "source": [
    "backup_df = df.select('*')"
   ]
  },
  {
   "cell_type": "code",
   "execution_count": 24,
   "id": "f9ac871b-d019-4471-8f5e-66367f808078",
   "metadata": {},
   "outputs": [],
   "source": [
    "df2 = df.withColumn('user', col('user').cast(StringType()))\n",
    "df2 = df2.withColumn('hours', round(col('hours').cast(FloatType()), 2))\n",
    "df2 = df2.withColumn('project', col('project').cast(StringType()))\n",
    "df2 = df2.withColumn('timestamp', col('timestamp').cast(TimestampType()))"
   ]
  },
  {
   "cell_type": "code",
   "execution_count": 25,
   "id": "84c6108e-b7d5-4a7a-b97d-a86b1d602a45",
   "metadata": {},
   "outputs": [
    {
     "name": "stdout",
     "output_type": "stream",
     "text": [
      "2047\n"
     ]
    }
   ],
   "source": [
    "# transform 'timestamp' column \n",
    "nullIds = df2.filter(col('timestamp').eqNullSafe(None) | col('timestamp').isNull()).select('id').rdd.flatMap(lambda x: x).collect()\n",
    "print(len(nullIds))"
   ]
  },
  {
   "cell_type": "code",
   "execution_count": 26,
   "id": "1a7ce339-92fb-4c92-8691-a3b6567dfe85",
   "metadata": {},
   "outputs": [
    {
     "data": {
      "text/plain": [
       "18453"
      ]
     },
     "execution_count": 26,
     "metadata": {},
     "output_type": "execute_result"
    }
   ],
   "source": [
    "clean_df = df2.filter(~col(\"id\").isin(nullIds))\n",
    "clean_df.count()"
   ]
  },
  {
   "cell_type": "code",
   "execution_count": 27,
   "id": "8ec191e7-e83f-4699-89f5-a4069b2b048d",
   "metadata": {},
   "outputs": [
    {
     "data": {
      "text/plain": [
       "2047"
      ]
     },
     "execution_count": 27,
     "metadata": {},
     "output_type": "execute_result"
    }
   ],
   "source": [
    "df3 = df.filter(col(\"id\").isin(nullIds))\n",
    "df3.count()"
   ]
  },
  {
   "cell_type": "code",
   "execution_count": 28,
   "id": "c0ca9b4f-96fa-4b3d-a8ca-724822915a70",
   "metadata": {},
   "outputs": [
    {
     "data": {
      "text/plain": [
       "2047"
      ]
     },
     "execution_count": 28,
     "metadata": {},
     "output_type": "execute_result"
    }
   ],
   "source": [
    "format_1 = 'MM/dd/yyyy hh:mm a'\n",
    "df3 = df3.withColumn('timestamp', to_utc_timestamp(from_unixtime(unix_timestamp(col('timestamp'), format_1)), 'UTC'))\n",
    "df3.count()"
   ]
  },
  {
   "cell_type": "code",
   "execution_count": 29,
   "id": "ea4e292e-1eed-4ca3-99ee-3c8a7c167370",
   "metadata": {},
   "outputs": [
    {
     "name": "stdout",
     "output_type": "stream",
     "text": [
      "1022\n"
     ]
    }
   ],
   "source": [
    "ruIDs = df3.filter(col('timestamp').eqNullSafe(None) | col('timestamp').isNull()).select('id').rdd.flatMap(lambda x: x).collect()\n",
    "print(len(ruIDs))"
   ]
  },
  {
   "cell_type": "code",
   "execution_count": 30,
   "id": "94d00286-8631-462d-932c-2e119f3082aa",
   "metadata": {},
   "outputs": [
    {
     "data": {
      "text/plain": [
       "1025"
      ]
     },
     "execution_count": 30,
     "metadata": {},
     "output_type": "execute_result"
    }
   ],
   "source": [
    "clean_df2 = df3.filter(~col(\"id\").isin(ruIDs))\n",
    "clean_df2.count()"
   ]
  },
  {
   "cell_type": "code",
   "execution_count": 31,
   "id": "08695149-5ae5-4865-9d0a-a0c091b0faa4",
   "metadata": {},
   "outputs": [
    {
     "data": {
      "text/plain": [
       "1022"
      ]
     },
     "execution_count": 31,
     "metadata": {},
     "output_type": "execute_result"
    }
   ],
   "source": [
    "df4 = df.filter(col(\"id\").isin(ruIDs))\n",
    "df4.count()"
   ]
  },
  {
   "cell_type": "code",
   "execution_count": 32,
   "id": "550e4727-e4c9-47d9-8d22-5be07d0bb78b",
   "metadata": {},
   "outputs": [],
   "source": [
    "def make_datetime_ru(df):\n",
    "    month_mapping = {\n",
    "    'января': 'January',\n",
    "    'февраля': 'February',\n",
    "    'марта': 'March',\n",
    "    'апреля': 'April',\n",
    "    'мая': 'May',\n",
    "    'июня': 'June',\n",
    "    'июля': 'July',\n",
    "    'августа': 'August',\n",
    "    'сентября': 'September',\n",
    "    'октября': 'October',\n",
    "    'ноября': 'November',\n",
    "    'декабря': 'December'\n",
    "    }\n",
    "    for russian_month, english_month in month_mapping.items():\n",
    "        df = df.withColumn('timestamp', regexp_replace(col('timestamp'), russian_month, english_month))\n",
    "    return df"
   ]
  },
  {
   "cell_type": "code",
   "execution_count": 33,
   "id": "c38804ea-fc05-4374-8402-823fe3daa0f0",
   "metadata": {},
   "outputs": [],
   "source": [
    "spark.conf.set(\"spark.sql.legacy.timeParserPolicy\", \"LEGACY\")\n",
    "spark.conf.set(\"spark.sql.parquet.datetimeRebaseModeInWrite\", \"CORRECTED\")"
   ]
  },
  {
   "cell_type": "code",
   "execution_count": 34,
   "id": "1f6ac555-03df-40ec-be9a-da280cc138b8",
   "metadata": {},
   "outputs": [],
   "source": [
    "df4 = make_datetime_ru(df4)"
   ]
  },
  {
   "cell_type": "code",
   "execution_count": 35,
   "id": "ff61550f-d539-429c-9b9b-0f1b9dd34ed1",
   "metadata": {},
   "outputs": [
    {
     "name": "stdout",
     "output_type": "stream",
     "text": [
      "+-------+----------------------+-----+------------+----+\n",
      "|user   |timestamp             |hours|project     |id  |\n",
      "+-------+----------------------+-----+------------+----+\n",
      "|viserys|26 November 2018 12:30|0.5  |opsandadmin |38  |\n",
      "|sansa  |23 November 2018 00:00|1.0  |project-51  |140 |\n",
      "|jeor   |21 November 2018 10:14|1.5  |bizdev      |269 |\n",
      "|catelyn|19 November 2018 13:29|0.33 |opsandadmin |448 |\n",
      "|catelyn|12 November 2018 11:01|0.82 |project-38  |876 |\n",
      "|bronn  |6 November 2018 00:00 |1.75 |website     |1326|\n",
      "|jeor   |6 November 2018 00:00 |2.5  |project-30  |1341|\n",
      "|jon    |31 October 2018 15:55 |4.0  |project-25  |1495|\n",
      "|stannis|29 October 2018 00:00 |0.82 |project-00  |1749|\n",
      "|sansa  |24 October 2018 00:00 |0.5  |datastrategy|2025|\n",
      "+-------+----------------------+-----+------------+----+\n",
      "only showing top 10 rows\n",
      "\n"
     ]
    }
   ],
   "source": [
    "df4.sample(False, 0.1, seed=0).show(10, truncate=False)"
   ]
  },
  {
   "cell_type": "code",
   "execution_count": 36,
   "id": "3f1bc6b9-6707-44cd-bd05-4e9f5ed3c227",
   "metadata": {},
   "outputs": [],
   "source": [
    "format_2 = \"dd MMMM y HH:mm\"\n",
    "df4 = df4.withColumn('timestamp', to_utc_timestamp(from_unixtime(unix_timestamp(col('timestamp'), format_2)), 'UTC'))\n",
    "clean_df3 = df4.select('*')"
   ]
  },
  {
   "cell_type": "code",
   "execution_count": 37,
   "id": "165ff767-7fd9-4fb3-9dac-99bb6ff06dfe",
   "metadata": {},
   "outputs": [],
   "source": [
    "final_df = clean_df.unionByName(clean_df2).unionByName(clean_df3)"
   ]
  },
  {
   "cell_type": "code",
   "execution_count": 38,
   "id": "170f8ef6-aaca-499a-9b34-e7a44c505289",
   "metadata": {},
   "outputs": [],
   "source": [
    "final_df.write\\\n",
    ".option(\"header\",\"true\")\\\n",
    ".mode('overwrite').csv(\"../state=transform/table=dailycheckins/year={}/month={}/day={}/\".format(year,month,day))"
   ]
  },
  {
   "cell_type": "code",
   "execution_count": null,
   "id": "5ee2ce40-fd4f-41fc-86f2-0b8e85fe5c4a",
   "metadata": {},
   "outputs": [],
   "source": []
  },
  {
   "cell_type": "markdown",
   "id": "0aeb79d2-b63f-48ed-9483-1f65e5c94a44",
   "metadata": {},
   "source": [
    "# --- to debug --- "
   ]
  },
  {
   "cell_type": "code",
   "execution_count": 55,
   "id": "4fe7829f-462a-4487-bcf9-c8d8a556f371",
   "metadata": {},
   "outputs": [
    {
     "name": "stdout",
     "output_type": "stream",
     "text": [
      "+------------+---------+-----+-----------+---+\n",
      "|user        |timestamp|hours|project    |id |\n",
      "+------------+---------+-----+-----------+---+\n",
      "|jaime       |null     |2.0  |project-00 |6  |\n",
      "|catelyn     |null     |2.37 |project-40 |91 |\n",
      "|joffrey     |null     |2.0  |bizdev     |170|\n",
      "|sansa       |null     |1.5  |learning   |300|\n",
      "|littlefinger|null     |3.0  |opsandadmin|470|\n",
      "|hound       |null     |0.5  |events     |628|\n",
      "|hound       |null     |0.75 |marketing  |635|\n",
      "|bran        |null     |6.08 |project-66 |709|\n",
      "|hound       |null     |0.5  |blogideas  |820|\n",
      "|samwell     |null     |6.5  |project-26 |902|\n",
      "+------------+---------+-----+-----------+---+\n",
      "only showing top 10 rows\n",
      "\n"
     ]
    }
   ],
   "source": [
    "df3.sample(False, 0.1, seed=0).show(10, truncate=False)"
   ]
  }
 ],
 "metadata": {
  "kernelspec": {
   "display_name": "pyspark",
   "language": "python",
   "name": "pyspark"
  },
  "language_info": {
   "codemirror_mode": {
    "name": "ipython",
    "version": 3
   },
   "file_extension": ".py",
   "mimetype": "text/x-python",
   "name": "python",
   "nbconvert_exporter": "python",
   "pygments_lexer": "ipython3",
   "version": "3.10.13"
  }
 },
 "nbformat": 4,
 "nbformat_minor": 5
}
